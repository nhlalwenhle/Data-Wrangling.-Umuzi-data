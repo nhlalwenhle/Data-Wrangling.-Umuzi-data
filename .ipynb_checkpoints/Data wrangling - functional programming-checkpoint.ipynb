{
 "cells": [
  {
   "cell_type": "markdown",
   "metadata": {},
   "source": [
    "# Data Wrangling"
   ]
  },
  {
   "cell_type": "markdown",
   "metadata": {},
   "source": [
    "## Overview\n",
    "\n",
    "* Collecting data\n",
    "* Cleaning data\n",
    "* Transforming data\n",
    "* Using transformed data to get new information"
   ]
  },
  {
   "cell_type": "markdown",
   "metadata": {},
   "source": [
    "### 1. Read dataset  and examine dataframe for duplicates (ID)"
   ]
  },
  {
   "cell_type": "markdown",
   "metadata": {},
   "source": [
    "Importing pandas and statistics modules"
   ]
  },
  {
   "cell_type": "code",
   "execution_count": 1,
   "metadata": {
    "ExecuteTime": {
     "end_time": "2019-07-10T10:19:43.007534Z",
     "start_time": "2019-07-10T10:19:42.759187Z"
    }
   },
   "outputs": [],
   "source": [
    "import pandas as pd\n",
    "import statistics"
   ]
  },
  {
   "cell_type": "markdown",
   "metadata": {},
   "source": [
    "Reading personality and scores datasets into dataframes."
   ]
  },
  {
   "cell_type": "code",
   "execution_count": 2,
   "metadata": {
    "ExecuteTime": {
     "end_time": "2019-07-10T10:19:44.174230Z",
     "start_time": "2019-07-10T10:19:44.124303Z"
    }
   },
   "outputs": [],
   "source": [
    "departments = pd.read_csv('departments.csv', delimiter=';')\n",
    "scores = pd.read_csv('personality_scores.csv', delimiter=';')"
   ]
  },
  {
   "cell_type": "markdown",
   "metadata": {},
   "source": [
    "Checking for deuplicates, keeping the first value and removing the second duplicate value and more if there any. Also removing all columns that only contain null values."
   ]
  },
  {
   "cell_type": "code",
   "execution_count": 3,
   "metadata": {
    "ExecuteTime": {
     "end_time": "2019-07-10T10:19:45.432959Z",
     "start_time": "2019-07-10T10:19:45.412080Z"
    }
   },
   "outputs": [
    {
     "data": {
      "text/html": [
       "<div>\n",
       "<style scoped>\n",
       "    .dataframe tbody tr th:only-of-type {\n",
       "        vertical-align: middle;\n",
       "    }\n",
       "\n",
       "    .dataframe tbody tr th {\n",
       "        vertical-align: top;\n",
       "    }\n",
       "\n",
       "    .dataframe thead th {\n",
       "        text-align: right;\n",
       "    }\n",
       "</style>\n",
       "<table border=\"1\" class=\"dataframe\">\n",
       "  <thead>\n",
       "    <tr style=\"text-align: right;\">\n",
       "      <th></th>\n",
       "      <th>ID</th>\n",
       "      <th>Department</th>\n",
       "    </tr>\n",
       "  </thead>\n",
       "  <tbody>\n",
       "    <tr>\n",
       "      <th>0</th>\n",
       "      <td>0</td>\n",
       "      <td>Data</td>\n",
       "    </tr>\n",
       "    <tr>\n",
       "      <th>1</th>\n",
       "      <td>1</td>\n",
       "      <td>Data</td>\n",
       "    </tr>\n",
       "    <tr>\n",
       "      <th>2</th>\n",
       "      <td>2</td>\n",
       "      <td>Data</td>\n",
       "    </tr>\n",
       "    <tr>\n",
       "      <th>3</th>\n",
       "      <td>3</td>\n",
       "      <td>Data</td>\n",
       "    </tr>\n",
       "    <tr>\n",
       "      <th>4</th>\n",
       "      <td>4</td>\n",
       "      <td>Data</td>\n",
       "    </tr>\n",
       "  </tbody>\n",
       "</table>\n",
       "</div>"
      ],
      "text/plain": [
       "   ID Department\n",
       "0   0       Data\n",
       "1   1       Data\n",
       "2   2       Data\n",
       "3   3       Data\n",
       "4   4       Data"
      ]
     },
     "execution_count": 3,
     "metadata": {},
     "output_type": "execute_result"
    }
   ],
   "source": [
    "new_department = departments.drop_duplicates(subset='ID', keep='first').dropna(axis=1)\n",
    "new_department.head()"
   ]
  },
  {
   "cell_type": "code",
   "execution_count": 4,
   "metadata": {
    "ExecuteTime": {
     "end_time": "2019-07-10T10:19:47.627413Z",
     "start_time": "2019-07-10T10:19:47.596072Z"
    },
    "scrolled": true
   },
   "outputs": [
    {
     "data": {
      "text/html": [
       "<div>\n",
       "<style scoped>\n",
       "    .dataframe tbody tr th:only-of-type {\n",
       "        vertical-align: middle;\n",
       "    }\n",
       "\n",
       "    .dataframe tbody tr th {\n",
       "        vertical-align: top;\n",
       "    }\n",
       "\n",
       "    .dataframe thead th {\n",
       "        text-align: right;\n",
       "    }\n",
       "</style>\n",
       "<table border=\"1\" class=\"dataframe\">\n",
       "  <thead>\n",
       "    <tr style=\"text-align: right;\">\n",
       "      <th></th>\n",
       "      <th>ID</th>\n",
       "      <th>Section 5 of 6 [I am always prepared.]</th>\n",
       "      <th>Section 5 of 6 [I am easily disturbed.]</th>\n",
       "      <th>Section 5 of 6 [I am exacting (demanding) in my work.]</th>\n",
       "      <th>Section 5 of 6 [I am full of ideas.]</th>\n",
       "      <th>Section 5 of 6 [I am interested in people.]</th>\n",
       "      <th>Section 5 of 6 [I am not interested in abstract ideas.]</th>\n",
       "      <th>Section 5 of 6 [I am not interested in other people's problems.]</th>\n",
       "      <th>Section 5 of 6 [I am not really interested in others.]</th>\n",
       "      <th>Section 5 of 6 [I am quick to understand things.]</th>\n",
       "      <th>...</th>\n",
       "      <th>Section 5 of 6 [I often forget to put things back in their proper place]</th>\n",
       "      <th>Section 5 of 6 [I pay attention to details.]</th>\n",
       "      <th>Section 5 of 6 [I seldom feel blue (down).]</th>\n",
       "      <th>Section 5 of 6 [I spend time reflecting on things.]</th>\n",
       "      <th>Section 5 of 6 [I start conversations.]</th>\n",
       "      <th>Section 5 of 6 [I sympathize with others' feelings.]</th>\n",
       "      <th>Section 5 of 6 [I take time out for others.]</th>\n",
       "      <th>Section 5 of 6 [I talk to a lot of different people at parties.]</th>\n",
       "      <th>Section 5 of 6 [I use difficult words.]</th>\n",
       "      <th>Section 5 of 6 [I worry about things.]</th>\n",
       "    </tr>\n",
       "  </thead>\n",
       "  <tbody>\n",
       "    <tr>\n",
       "      <th>0</th>\n",
       "      <td>0</td>\n",
       "      <td>(3, 5)</td>\n",
       "      <td>(4, 5)</td>\n",
       "      <td>(3, 5)</td>\n",
       "      <td>(5, 5)</td>\n",
       "      <td>(2, 3)</td>\n",
       "      <td>(5, 3)</td>\n",
       "      <td>(2, 3)</td>\n",
       "      <td>(2, 5)</td>\n",
       "      <td>(5, 5)</td>\n",
       "      <td>...</td>\n",
       "      <td>(3, 5)</td>\n",
       "      <td>(3, 5)</td>\n",
       "      <td>(4, 3)</td>\n",
       "      <td>(5, 5)</td>\n",
       "      <td>(1, 3)</td>\n",
       "      <td>(2, 5)</td>\n",
       "      <td>(2, 5)</td>\n",
       "      <td>(1, 3)</td>\n",
       "      <td>(5, 1)</td>\n",
       "      <td>(4, 3)</td>\n",
       "    </tr>\n",
       "    <tr>\n",
       "      <th>1</th>\n",
       "      <td>1</td>\n",
       "      <td>(3, 5)</td>\n",
       "      <td>(4, 5)</td>\n",
       "      <td>(3, 5)</td>\n",
       "      <td>(5, 5)</td>\n",
       "      <td>(2, 5)</td>\n",
       "      <td>(5, 3)</td>\n",
       "      <td>(2, 5)</td>\n",
       "      <td>(2, 5)</td>\n",
       "      <td>(5, 5)</td>\n",
       "      <td>...</td>\n",
       "      <td>(3, 5)</td>\n",
       "      <td>(3, 1)</td>\n",
       "      <td>(4, 1)</td>\n",
       "      <td>(5, 5)</td>\n",
       "      <td>(1, 5)</td>\n",
       "      <td>(2, 5)</td>\n",
       "      <td>(2, 5)</td>\n",
       "      <td>(1, 5)</td>\n",
       "      <td>(5, 3)</td>\n",
       "      <td>(4, 3)</td>\n",
       "    </tr>\n",
       "    <tr>\n",
       "      <th>2</th>\n",
       "      <td>2</td>\n",
       "      <td>(3, 5)</td>\n",
       "      <td>(4, 3)</td>\n",
       "      <td>(3, 3)</td>\n",
       "      <td>(5, 5)</td>\n",
       "      <td>(2, 5)</td>\n",
       "      <td>(5, 5)</td>\n",
       "      <td>(2, 5)</td>\n",
       "      <td>(2, 5)</td>\n",
       "      <td>(5, 5)</td>\n",
       "      <td>...</td>\n",
       "      <td>(3, 5)</td>\n",
       "      <td>(3, 5)</td>\n",
       "      <td>(4, 1)</td>\n",
       "      <td>(5, 3)</td>\n",
       "      <td>(1, 3)</td>\n",
       "      <td>(2, 5)</td>\n",
       "      <td>(2, 5)</td>\n",
       "      <td>(1, 3)</td>\n",
       "      <td>(5, 1)</td>\n",
       "      <td>(4, 3)</td>\n",
       "    </tr>\n",
       "    <tr>\n",
       "      <th>3</th>\n",
       "      <td>3</td>\n",
       "      <td>(3, 5)</td>\n",
       "      <td>(4, 5)</td>\n",
       "      <td>(3, 3)</td>\n",
       "      <td>(5, 5)</td>\n",
       "      <td>(2, 5)</td>\n",
       "      <td>(5, 3)</td>\n",
       "      <td>(2, 3)</td>\n",
       "      <td>(2, 3)</td>\n",
       "      <td>(5, 3)</td>\n",
       "      <td>...</td>\n",
       "      <td>(3, 1)</td>\n",
       "      <td>(3, 5)</td>\n",
       "      <td>(4, 1)</td>\n",
       "      <td>(5, 5)</td>\n",
       "      <td>(1, 5)</td>\n",
       "      <td>(2, 5)</td>\n",
       "      <td>(2, 5)</td>\n",
       "      <td>(1, 5)</td>\n",
       "      <td>(5, 1)</td>\n",
       "      <td>(4, 1)</td>\n",
       "    </tr>\n",
       "    <tr>\n",
       "      <th>4</th>\n",
       "      <td>4</td>\n",
       "      <td>(3, 3)</td>\n",
       "      <td>(4, 5)</td>\n",
       "      <td>(3, 3)</td>\n",
       "      <td>(5, 3)</td>\n",
       "      <td>(2, 3)</td>\n",
       "      <td>(5, 3)</td>\n",
       "      <td>(2, 3)</td>\n",
       "      <td>(2, 3)</td>\n",
       "      <td>(5, 5)</td>\n",
       "      <td>...</td>\n",
       "      <td>(3, 5)</td>\n",
       "      <td>(3, 5)</td>\n",
       "      <td>(4, 5)</td>\n",
       "      <td>(5, 5)</td>\n",
       "      <td>(1, 3)</td>\n",
       "      <td>(2, 3)</td>\n",
       "      <td>(2, 5)</td>\n",
       "      <td>(1, 3)</td>\n",
       "      <td>(5, 1)</td>\n",
       "      <td>(4, 3)</td>\n",
       "    </tr>\n",
       "  </tbody>\n",
       "</table>\n",
       "<p>5 rows × 51 columns</p>\n",
       "</div>"
      ],
      "text/plain": [
       "   ID Section 5 of 6 [I am always prepared.]  \\\n",
       "0   0                                 (3, 5)   \n",
       "1   1                                 (3, 5)   \n",
       "2   2                                 (3, 5)   \n",
       "3   3                                 (3, 5)   \n",
       "4   4                                 (3, 3)   \n",
       "\n",
       "  Section 5 of 6 [I am easily disturbed.]  \\\n",
       "0                                  (4, 5)   \n",
       "1                                  (4, 5)   \n",
       "2                                  (4, 3)   \n",
       "3                                  (4, 5)   \n",
       "4                                  (4, 5)   \n",
       "\n",
       "  Section 5 of 6 [I am exacting (demanding) in my work.]  \\\n",
       "0                                             (3, 5)       \n",
       "1                                             (3, 5)       \n",
       "2                                             (3, 3)       \n",
       "3                                             (3, 3)       \n",
       "4                                             (3, 3)       \n",
       "\n",
       "  Section 5 of 6 [I am full of ideas.]  \\\n",
       "0                               (5, 5)   \n",
       "1                               (5, 5)   \n",
       "2                               (5, 5)   \n",
       "3                               (5, 5)   \n",
       "4                               (5, 3)   \n",
       "\n",
       "  Section 5 of 6 [I am interested in people.]  \\\n",
       "0                                      (2, 3)   \n",
       "1                                      (2, 5)   \n",
       "2                                      (2, 5)   \n",
       "3                                      (2, 5)   \n",
       "4                                      (2, 3)   \n",
       "\n",
       "  Section 5 of 6 [I am not interested in abstract ideas.]  \\\n",
       "0                                             (5, 3)        \n",
       "1                                             (5, 3)        \n",
       "2                                             (5, 5)        \n",
       "3                                             (5, 3)        \n",
       "4                                             (5, 3)        \n",
       "\n",
       "  Section 5 of 6 [I am not interested in other people's problems.]  \\\n",
       "0                                             (2, 3)                 \n",
       "1                                             (2, 5)                 \n",
       "2                                             (2, 5)                 \n",
       "3                                             (2, 3)                 \n",
       "4                                             (2, 3)                 \n",
       "\n",
       "  Section 5 of 6 [I am not really interested in others.]  \\\n",
       "0                                             (2, 5)       \n",
       "1                                             (2, 5)       \n",
       "2                                             (2, 5)       \n",
       "3                                             (2, 3)       \n",
       "4                                             (2, 3)       \n",
       "\n",
       "  Section 5 of 6 [I am quick to understand things.]  ...  \\\n",
       "0                                            (5, 5)  ...   \n",
       "1                                            (5, 5)  ...   \n",
       "2                                            (5, 5)  ...   \n",
       "3                                            (5, 3)  ...   \n",
       "4                                            (5, 5)  ...   \n",
       "\n",
       "  Section 5 of 6 [I often forget to put things back in their proper place]  \\\n",
       "0                                             (3, 5)                         \n",
       "1                                             (3, 5)                         \n",
       "2                                             (3, 5)                         \n",
       "3                                             (3, 1)                         \n",
       "4                                             (3, 5)                         \n",
       "\n",
       "  Section 5 of 6 [I pay attention to details.]  \\\n",
       "0                                       (3, 5)   \n",
       "1                                       (3, 1)   \n",
       "2                                       (3, 5)   \n",
       "3                                       (3, 5)   \n",
       "4                                       (3, 5)   \n",
       "\n",
       "  Section 5 of 6 [I seldom feel blue (down).]  \\\n",
       "0                                      (4, 3)   \n",
       "1                                      (4, 1)   \n",
       "2                                      (4, 1)   \n",
       "3                                      (4, 1)   \n",
       "4                                      (4, 5)   \n",
       "\n",
       "  Section 5 of 6 [I spend time reflecting on things.]  \\\n",
       "0                                             (5, 5)    \n",
       "1                                             (5, 5)    \n",
       "2                                             (5, 3)    \n",
       "3                                             (5, 5)    \n",
       "4                                             (5, 5)    \n",
       "\n",
       "  Section 5 of 6 [I start conversations.]  \\\n",
       "0                                  (1, 3)   \n",
       "1                                  (1, 5)   \n",
       "2                                  (1, 3)   \n",
       "3                                  (1, 5)   \n",
       "4                                  (1, 3)   \n",
       "\n",
       "  Section 5 of 6 [I sympathize with others' feelings.]  \\\n",
       "0                                             (2, 5)     \n",
       "1                                             (2, 5)     \n",
       "2                                             (2, 5)     \n",
       "3                                             (2, 5)     \n",
       "4                                             (2, 3)     \n",
       "\n",
       "  Section 5 of 6 [I take time out for others.]  \\\n",
       "0                                       (2, 5)   \n",
       "1                                       (2, 5)   \n",
       "2                                       (2, 5)   \n",
       "3                                       (2, 5)   \n",
       "4                                       (2, 5)   \n",
       "\n",
       "  Section 5 of 6 [I talk to a lot of different people at parties.]  \\\n",
       "0                                             (1, 3)                 \n",
       "1                                             (1, 5)                 \n",
       "2                                             (1, 3)                 \n",
       "3                                             (1, 5)                 \n",
       "4                                             (1, 3)                 \n",
       "\n",
       "  Section 5 of 6 [I use difficult words.]  \\\n",
       "0                                  (5, 1)   \n",
       "1                                  (5, 3)   \n",
       "2                                  (5, 1)   \n",
       "3                                  (5, 1)   \n",
       "4                                  (5, 1)   \n",
       "\n",
       "  Section 5 of 6 [I worry about things.]  \n",
       "0                                 (4, 3)  \n",
       "1                                 (4, 3)  \n",
       "2                                 (4, 3)  \n",
       "3                                 (4, 1)  \n",
       "4                                 (4, 3)  \n",
       "\n",
       "[5 rows x 51 columns]"
      ]
     },
     "execution_count": 4,
     "metadata": {},
     "output_type": "execute_result"
    }
   ],
   "source": [
    "new_scores = scores.drop_duplicates(subset='ID', keep='first').dropna(axis=1)\n",
    "new_scores.head()"
   ]
  },
  {
   "cell_type": "code",
   "execution_count": 5,
   "metadata": {
    "ExecuteTime": {
     "end_time": "2019-07-10T10:19:49.574914Z",
     "start_time": "2019-07-10T10:19:49.571078Z"
    }
   },
   "outputs": [
    {
     "data": {
      "text/plain": [
       "(1555, 70)"
      ]
     },
     "execution_count": 5,
     "metadata": {},
     "output_type": "execute_result"
    }
   ],
   "source": [
    "scores.shape"
   ]
  },
  {
   "cell_type": "code",
   "execution_count": 6,
   "metadata": {
    "ExecuteTime": {
     "end_time": "2019-07-10T10:19:49.965826Z",
     "start_time": "2019-07-10T10:19:49.961780Z"
    },
    "scrolled": false
   },
   "outputs": [
    {
     "data": {
      "text/plain": [
       "(1555, 51)"
      ]
     },
     "execution_count": 6,
     "metadata": {},
     "output_type": "execute_result"
    }
   ],
   "source": [
    "new_scores.shape"
   ]
  },
  {
   "cell_type": "code",
   "execution_count": 7,
   "metadata": {
    "ExecuteTime": {
     "end_time": "2019-07-10T10:19:50.286154Z",
     "start_time": "2019-07-10T10:19:50.282582Z"
    }
   },
   "outputs": [
    {
     "data": {
      "text/plain": [
       "(1555, 21)"
      ]
     },
     "execution_count": 7,
     "metadata": {},
     "output_type": "execute_result"
    }
   ],
   "source": [
    "departments.shape"
   ]
  },
  {
   "cell_type": "code",
   "execution_count": 8,
   "metadata": {
    "ExecuteTime": {
     "end_time": "2019-07-10T10:19:50.654626Z",
     "start_time": "2019-07-10T10:19:50.650537Z"
    }
   },
   "outputs": [
    {
     "data": {
      "text/plain": [
       "(1555, 2)"
      ]
     },
     "execution_count": 8,
     "metadata": {},
     "output_type": "execute_result"
    }
   ],
   "source": [
    "new_department.shape"
   ]
  },
  {
   "cell_type": "markdown",
   "metadata": {},
   "source": [
    "Setting the ID column as the index for both dataframes."
   ]
  },
  {
   "cell_type": "code",
   "execution_count": 9,
   "metadata": {
    "ExecuteTime": {
     "end_time": "2019-07-10T10:19:54.242916Z",
     "start_time": "2019-07-10T10:19:54.235855Z"
    }
   },
   "outputs": [],
   "source": [
    "new_scores = new_scores.set_index('ID')\n",
    "new_department = new_department.set_index('ID')"
   ]
  },
  {
   "cell_type": "code",
   "execution_count": 10,
   "metadata": {
    "ExecuteTime": {
     "end_time": "2019-07-10T10:19:55.524685Z",
     "start_time": "2019-07-10T10:19:55.500123Z"
    },
    "scrolled": true
   },
   "outputs": [
    {
     "data": {
      "text/html": [
       "<div>\n",
       "<style scoped>\n",
       "    .dataframe tbody tr th:only-of-type {\n",
       "        vertical-align: middle;\n",
       "    }\n",
       "\n",
       "    .dataframe tbody tr th {\n",
       "        vertical-align: top;\n",
       "    }\n",
       "\n",
       "    .dataframe thead th {\n",
       "        text-align: right;\n",
       "    }\n",
       "</style>\n",
       "<table border=\"1\" class=\"dataframe\">\n",
       "  <thead>\n",
       "    <tr style=\"text-align: right;\">\n",
       "      <th></th>\n",
       "      <th>Section 5 of 6 [I am always prepared.]</th>\n",
       "      <th>Section 5 of 6 [I am easily disturbed.]</th>\n",
       "      <th>Section 5 of 6 [I am exacting (demanding) in my work.]</th>\n",
       "      <th>Section 5 of 6 [I am full of ideas.]</th>\n",
       "      <th>Section 5 of 6 [I am interested in people.]</th>\n",
       "      <th>Section 5 of 6 [I am not interested in abstract ideas.]</th>\n",
       "      <th>Section 5 of 6 [I am not interested in other people's problems.]</th>\n",
       "      <th>Section 5 of 6 [I am not really interested in others.]</th>\n",
       "      <th>Section 5 of 6 [I am quick to understand things.]</th>\n",
       "      <th>Section 5 of 6 [I am quiet around strangers.]</th>\n",
       "      <th>...</th>\n",
       "      <th>Section 5 of 6 [I often forget to put things back in their proper place]</th>\n",
       "      <th>Section 5 of 6 [I pay attention to details.]</th>\n",
       "      <th>Section 5 of 6 [I seldom feel blue (down).]</th>\n",
       "      <th>Section 5 of 6 [I spend time reflecting on things.]</th>\n",
       "      <th>Section 5 of 6 [I start conversations.]</th>\n",
       "      <th>Section 5 of 6 [I sympathize with others' feelings.]</th>\n",
       "      <th>Section 5 of 6 [I take time out for others.]</th>\n",
       "      <th>Section 5 of 6 [I talk to a lot of different people at parties.]</th>\n",
       "      <th>Section 5 of 6 [I use difficult words.]</th>\n",
       "      <th>Section 5 of 6 [I worry about things.]</th>\n",
       "    </tr>\n",
       "    <tr>\n",
       "      <th>ID</th>\n",
       "      <th></th>\n",
       "      <th></th>\n",
       "      <th></th>\n",
       "      <th></th>\n",
       "      <th></th>\n",
       "      <th></th>\n",
       "      <th></th>\n",
       "      <th></th>\n",
       "      <th></th>\n",
       "      <th></th>\n",
       "      <th></th>\n",
       "      <th></th>\n",
       "      <th></th>\n",
       "      <th></th>\n",
       "      <th></th>\n",
       "      <th></th>\n",
       "      <th></th>\n",
       "      <th></th>\n",
       "      <th></th>\n",
       "      <th></th>\n",
       "      <th></th>\n",
       "    </tr>\n",
       "  </thead>\n",
       "  <tbody>\n",
       "    <tr>\n",
       "      <th>0</th>\n",
       "      <td>(3, 5)</td>\n",
       "      <td>(4, 5)</td>\n",
       "      <td>(3, 5)</td>\n",
       "      <td>(5, 5)</td>\n",
       "      <td>(2, 3)</td>\n",
       "      <td>(5, 3)</td>\n",
       "      <td>(2, 3)</td>\n",
       "      <td>(2, 5)</td>\n",
       "      <td>(5, 5)</td>\n",
       "      <td>(1, 3)</td>\n",
       "      <td>...</td>\n",
       "      <td>(3, 5)</td>\n",
       "      <td>(3, 5)</td>\n",
       "      <td>(4, 3)</td>\n",
       "      <td>(5, 5)</td>\n",
       "      <td>(1, 3)</td>\n",
       "      <td>(2, 5)</td>\n",
       "      <td>(2, 5)</td>\n",
       "      <td>(1, 3)</td>\n",
       "      <td>(5, 1)</td>\n",
       "      <td>(4, 3)</td>\n",
       "    </tr>\n",
       "    <tr>\n",
       "      <th>1</th>\n",
       "      <td>(3, 5)</td>\n",
       "      <td>(4, 5)</td>\n",
       "      <td>(3, 5)</td>\n",
       "      <td>(5, 5)</td>\n",
       "      <td>(2, 5)</td>\n",
       "      <td>(5, 3)</td>\n",
       "      <td>(2, 5)</td>\n",
       "      <td>(2, 5)</td>\n",
       "      <td>(5, 5)</td>\n",
       "      <td>(1, 3)</td>\n",
       "      <td>...</td>\n",
       "      <td>(3, 5)</td>\n",
       "      <td>(3, 1)</td>\n",
       "      <td>(4, 1)</td>\n",
       "      <td>(5, 5)</td>\n",
       "      <td>(1, 5)</td>\n",
       "      <td>(2, 5)</td>\n",
       "      <td>(2, 5)</td>\n",
       "      <td>(1, 5)</td>\n",
       "      <td>(5, 3)</td>\n",
       "      <td>(4, 3)</td>\n",
       "    </tr>\n",
       "    <tr>\n",
       "      <th>2</th>\n",
       "      <td>(3, 5)</td>\n",
       "      <td>(4, 3)</td>\n",
       "      <td>(3, 3)</td>\n",
       "      <td>(5, 5)</td>\n",
       "      <td>(2, 5)</td>\n",
       "      <td>(5, 5)</td>\n",
       "      <td>(2, 5)</td>\n",
       "      <td>(2, 5)</td>\n",
       "      <td>(5, 5)</td>\n",
       "      <td>(1, 1)</td>\n",
       "      <td>...</td>\n",
       "      <td>(3, 5)</td>\n",
       "      <td>(3, 5)</td>\n",
       "      <td>(4, 1)</td>\n",
       "      <td>(5, 3)</td>\n",
       "      <td>(1, 3)</td>\n",
       "      <td>(2, 5)</td>\n",
       "      <td>(2, 5)</td>\n",
       "      <td>(1, 3)</td>\n",
       "      <td>(5, 1)</td>\n",
       "      <td>(4, 3)</td>\n",
       "    </tr>\n",
       "    <tr>\n",
       "      <th>3</th>\n",
       "      <td>(3, 5)</td>\n",
       "      <td>(4, 5)</td>\n",
       "      <td>(3, 3)</td>\n",
       "      <td>(5, 5)</td>\n",
       "      <td>(2, 5)</td>\n",
       "      <td>(5, 3)</td>\n",
       "      <td>(2, 3)</td>\n",
       "      <td>(2, 3)</td>\n",
       "      <td>(5, 3)</td>\n",
       "      <td>(1, 3)</td>\n",
       "      <td>...</td>\n",
       "      <td>(3, 1)</td>\n",
       "      <td>(3, 5)</td>\n",
       "      <td>(4, 1)</td>\n",
       "      <td>(5, 5)</td>\n",
       "      <td>(1, 5)</td>\n",
       "      <td>(2, 5)</td>\n",
       "      <td>(2, 5)</td>\n",
       "      <td>(1, 5)</td>\n",
       "      <td>(5, 1)</td>\n",
       "      <td>(4, 1)</td>\n",
       "    </tr>\n",
       "    <tr>\n",
       "      <th>4</th>\n",
       "      <td>(3, 3)</td>\n",
       "      <td>(4, 5)</td>\n",
       "      <td>(3, 3)</td>\n",
       "      <td>(5, 3)</td>\n",
       "      <td>(2, 3)</td>\n",
       "      <td>(5, 3)</td>\n",
       "      <td>(2, 3)</td>\n",
       "      <td>(2, 3)</td>\n",
       "      <td>(5, 5)</td>\n",
       "      <td>(1, 1)</td>\n",
       "      <td>...</td>\n",
       "      <td>(3, 5)</td>\n",
       "      <td>(3, 5)</td>\n",
       "      <td>(4, 5)</td>\n",
       "      <td>(5, 5)</td>\n",
       "      <td>(1, 3)</td>\n",
       "      <td>(2, 3)</td>\n",
       "      <td>(2, 5)</td>\n",
       "      <td>(1, 3)</td>\n",
       "      <td>(5, 1)</td>\n",
       "      <td>(4, 3)</td>\n",
       "    </tr>\n",
       "  </tbody>\n",
       "</table>\n",
       "<p>5 rows × 50 columns</p>\n",
       "</div>"
      ],
      "text/plain": [
       "   Section 5 of 6 [I am always prepared.]  \\\n",
       "ID                                          \n",
       "0                                  (3, 5)   \n",
       "1                                  (3, 5)   \n",
       "2                                  (3, 5)   \n",
       "3                                  (3, 5)   \n",
       "4                                  (3, 3)   \n",
       "\n",
       "   Section 5 of 6 [I am easily disturbed.]  \\\n",
       "ID                                           \n",
       "0                                   (4, 5)   \n",
       "1                                   (4, 5)   \n",
       "2                                   (4, 3)   \n",
       "3                                   (4, 5)   \n",
       "4                                   (4, 5)   \n",
       "\n",
       "   Section 5 of 6 [I am exacting (demanding) in my work.]  \\\n",
       "ID                                                          \n",
       "0                                              (3, 5)       \n",
       "1                                              (3, 5)       \n",
       "2                                              (3, 3)       \n",
       "3                                              (3, 3)       \n",
       "4                                              (3, 3)       \n",
       "\n",
       "   Section 5 of 6 [I am full of ideas.]  \\\n",
       "ID                                        \n",
       "0                                (5, 5)   \n",
       "1                                (5, 5)   \n",
       "2                                (5, 5)   \n",
       "3                                (5, 5)   \n",
       "4                                (5, 3)   \n",
       "\n",
       "   Section 5 of 6 [I am interested in people.]  \\\n",
       "ID                                               \n",
       "0                                       (2, 3)   \n",
       "1                                       (2, 5)   \n",
       "2                                       (2, 5)   \n",
       "3                                       (2, 5)   \n",
       "4                                       (2, 3)   \n",
       "\n",
       "   Section 5 of 6 [I am not interested in abstract ideas.]  \\\n",
       "ID                                                           \n",
       "0                                              (5, 3)        \n",
       "1                                              (5, 3)        \n",
       "2                                              (5, 5)        \n",
       "3                                              (5, 3)        \n",
       "4                                              (5, 3)        \n",
       "\n",
       "   Section 5 of 6 [I am not interested in other people's problems.]  \\\n",
       "ID                                                                    \n",
       "0                                              (2, 3)                 \n",
       "1                                              (2, 5)                 \n",
       "2                                              (2, 5)                 \n",
       "3                                              (2, 3)                 \n",
       "4                                              (2, 3)                 \n",
       "\n",
       "   Section 5 of 6 [I am not really interested in others.]  \\\n",
       "ID                                                          \n",
       "0                                              (2, 5)       \n",
       "1                                              (2, 5)       \n",
       "2                                              (2, 5)       \n",
       "3                                              (2, 3)       \n",
       "4                                              (2, 3)       \n",
       "\n",
       "   Section 5 of 6 [I am quick to understand things.]  \\\n",
       "ID                                                     \n",
       "0                                             (5, 5)   \n",
       "1                                             (5, 5)   \n",
       "2                                             (5, 5)   \n",
       "3                                             (5, 3)   \n",
       "4                                             (5, 5)   \n",
       "\n",
       "   Section 5 of 6 [I am quiet around strangers.]  ...  \\\n",
       "ID                                                ...   \n",
       "0                                         (1, 3)  ...   \n",
       "1                                         (1, 3)  ...   \n",
       "2                                         (1, 1)  ...   \n",
       "3                                         (1, 3)  ...   \n",
       "4                                         (1, 1)  ...   \n",
       "\n",
       "   Section 5 of 6 [I often forget to put things back in their proper place]  \\\n",
       "ID                                                                            \n",
       "0                                              (3, 5)                         \n",
       "1                                              (3, 5)                         \n",
       "2                                              (3, 5)                         \n",
       "3                                              (3, 1)                         \n",
       "4                                              (3, 5)                         \n",
       "\n",
       "   Section 5 of 6 [I pay attention to details.]  \\\n",
       "ID                                                \n",
       "0                                        (3, 5)   \n",
       "1                                        (3, 1)   \n",
       "2                                        (3, 5)   \n",
       "3                                        (3, 5)   \n",
       "4                                        (3, 5)   \n",
       "\n",
       "   Section 5 of 6 [I seldom feel blue (down).]  \\\n",
       "ID                                               \n",
       "0                                       (4, 3)   \n",
       "1                                       (4, 1)   \n",
       "2                                       (4, 1)   \n",
       "3                                       (4, 1)   \n",
       "4                                       (4, 5)   \n",
       "\n",
       "   Section 5 of 6 [I spend time reflecting on things.]  \\\n",
       "ID                                                       \n",
       "0                                              (5, 5)    \n",
       "1                                              (5, 5)    \n",
       "2                                              (5, 3)    \n",
       "3                                              (5, 5)    \n",
       "4                                              (5, 5)    \n",
       "\n",
       "   Section 5 of 6 [I start conversations.]  \\\n",
       "ID                                           \n",
       "0                                   (1, 3)   \n",
       "1                                   (1, 5)   \n",
       "2                                   (1, 3)   \n",
       "3                                   (1, 5)   \n",
       "4                                   (1, 3)   \n",
       "\n",
       "   Section 5 of 6 [I sympathize with others' feelings.]  \\\n",
       "ID                                                        \n",
       "0                                              (2, 5)     \n",
       "1                                              (2, 5)     \n",
       "2                                              (2, 5)     \n",
       "3                                              (2, 5)     \n",
       "4                                              (2, 3)     \n",
       "\n",
       "   Section 5 of 6 [I take time out for others.]  \\\n",
       "ID                                                \n",
       "0                                        (2, 5)   \n",
       "1                                        (2, 5)   \n",
       "2                                        (2, 5)   \n",
       "3                                        (2, 5)   \n",
       "4                                        (2, 5)   \n",
       "\n",
       "   Section 5 of 6 [I talk to a lot of different people at parties.]  \\\n",
       "ID                                                                    \n",
       "0                                              (1, 3)                 \n",
       "1                                              (1, 5)                 \n",
       "2                                              (1, 3)                 \n",
       "3                                              (1, 5)                 \n",
       "4                                              (1, 3)                 \n",
       "\n",
       "   Section 5 of 6 [I use difficult words.]  \\\n",
       "ID                                           \n",
       "0                                   (5, 1)   \n",
       "1                                   (5, 3)   \n",
       "2                                   (5, 1)   \n",
       "3                                   (5, 1)   \n",
       "4                                   (5, 1)   \n",
       "\n",
       "   Section 5 of 6 [I worry about things.]  \n",
       "ID                                         \n",
       "0                                  (4, 3)  \n",
       "1                                  (4, 3)  \n",
       "2                                  (4, 3)  \n",
       "3                                  (4, 1)  \n",
       "4                                  (4, 3)  \n",
       "\n",
       "[5 rows x 50 columns]"
      ]
     },
     "execution_count": 10,
     "metadata": {},
     "output_type": "execute_result"
    }
   ],
   "source": [
    "new_scores.head()"
   ]
  },
  {
   "cell_type": "code",
   "execution_count": 11,
   "metadata": {
    "ExecuteTime": {
     "end_time": "2019-07-10T10:19:57.430648Z",
     "start_time": "2019-07-10T10:19:57.426436Z"
    },
    "scrolled": false
   },
   "outputs": [
    {
     "data": {
      "text/plain": [
       "(1555, 50)"
      ]
     },
     "execution_count": 11,
     "metadata": {},
     "output_type": "execute_result"
    }
   ],
   "source": [
    "new_scores.shape"
   ]
  },
  {
   "cell_type": "code",
   "execution_count": 12,
   "metadata": {
    "ExecuteTime": {
     "end_time": "2019-07-10T10:19:57.855555Z",
     "start_time": "2019-07-10T10:19:57.849622Z"
    }
   },
   "outputs": [
    {
     "data": {
      "text/html": [
       "<div>\n",
       "<style scoped>\n",
       "    .dataframe tbody tr th:only-of-type {\n",
       "        vertical-align: middle;\n",
       "    }\n",
       "\n",
       "    .dataframe tbody tr th {\n",
       "        vertical-align: top;\n",
       "    }\n",
       "\n",
       "    .dataframe thead th {\n",
       "        text-align: right;\n",
       "    }\n",
       "</style>\n",
       "<table border=\"1\" class=\"dataframe\">\n",
       "  <thead>\n",
       "    <tr style=\"text-align: right;\">\n",
       "      <th></th>\n",
       "      <th>Department</th>\n",
       "    </tr>\n",
       "    <tr>\n",
       "      <th>ID</th>\n",
       "      <th></th>\n",
       "    </tr>\n",
       "  </thead>\n",
       "  <tbody>\n",
       "    <tr>\n",
       "      <th>0</th>\n",
       "      <td>Data</td>\n",
       "    </tr>\n",
       "    <tr>\n",
       "      <th>1</th>\n",
       "      <td>Data</td>\n",
       "    </tr>\n",
       "    <tr>\n",
       "      <th>2</th>\n",
       "      <td>Data</td>\n",
       "    </tr>\n",
       "    <tr>\n",
       "      <th>3</th>\n",
       "      <td>Data</td>\n",
       "    </tr>\n",
       "    <tr>\n",
       "      <th>4</th>\n",
       "      <td>Data</td>\n",
       "    </tr>\n",
       "  </tbody>\n",
       "</table>\n",
       "</div>"
      ],
      "text/plain": [
       "   Department\n",
       "ID           \n",
       "0        Data\n",
       "1        Data\n",
       "2        Data\n",
       "3        Data\n",
       "4        Data"
      ]
     },
     "execution_count": 12,
     "metadata": {},
     "output_type": "execute_result"
    }
   ],
   "source": [
    "new_department.head()"
   ]
  },
  {
   "cell_type": "code",
   "execution_count": 13,
   "metadata": {
    "ExecuteTime": {
     "end_time": "2019-07-10T10:20:00.222409Z",
     "start_time": "2019-07-10T10:20:00.218726Z"
    }
   },
   "outputs": [
    {
     "data": {
      "text/plain": [
       "(1555, 1)"
      ]
     },
     "execution_count": 13,
     "metadata": {},
     "output_type": "execute_result"
    }
   ],
   "source": [
    "new_department.shape"
   ]
  },
  {
   "cell_type": "code",
   "execution_count": 24,
   "metadata": {
    "ExecuteTime": {
     "end_time": "2019-07-10T10:44:17.154558Z",
     "start_time": "2019-07-10T10:44:17.149872Z"
    }
   },
   "outputs": [
    {
     "data": {
      "text/plain": [
       "tuple"
      ]
     },
     "execution_count": 24,
     "metadata": {},
     "output_type": "execute_result"
    }
   ],
   "source": [
    "type(eval(new_scores.loc[0][0]))"
   ]
  },
  {
   "cell_type": "code",
   "execution_count": 25,
   "metadata": {
    "ExecuteTime": {
     "end_time": "2019-07-10T10:44:34.676241Z",
     "start_time": "2019-07-10T10:44:34.671329Z"
    }
   },
   "outputs": [
    {
     "data": {
      "text/plain": [
       "'(3, 5)'"
      ]
     },
     "execution_count": 25,
     "metadata": {},
     "output_type": "execute_result"
    }
   ],
   "source": [
    "new_scores.loc[0][0]"
   ]
  },
  {
   "cell_type": "markdown",
   "metadata": {},
   "source": [
    "### 2. Write functions that will convert the answer on each personality test question and calculate the total scores for each of the subscales - apply unit testing."
   ]
  },
  {
   "cell_type": "code",
   "execution_count": 28,
   "metadata": {
    "ExecuteTime": {
     "end_time": "2019-07-10T10:52:30.611295Z",
     "start_time": "2019-07-10T10:52:30.605626Z"
    }
   },
   "outputs": [
    {
     "ename": "SyntaxError",
     "evalue": "invalid syntax (<ipython-input-28-f51d5fba8c3a>, line 6)",
     "output_type": "error",
     "traceback": [
      "\u001b[0;36m  File \u001b[0;32m\"<ipython-input-28-f51d5fba8c3a>\"\u001b[0;36m, line \u001b[0;32m6\u001b[0m\n\u001b[0;31m    subscale_sum = sum([eval(i)[1] for i in scores_per_person if eval(i)[0] == subscale else print('hi')])\u001b[0m\n\u001b[0m                                                                                           ^\u001b[0m\n\u001b[0;31mSyntaxError\u001b[0m\u001b[0;31m:\u001b[0m invalid syntax\n"
     ]
    }
   ],
   "source": [
    "# def sum_per_subscale(scores_per_person, subscale):\n",
    "#     subscale_sum = sum([eval(scores_per_person[i])[1] for i in range(50) if eval(scores_per_person[i])[0] == subscale])\n",
    "#     return(subscale_sum)\n",
    "\n",
    "def sum_per_subscale(scores_per_person, subscale):\n",
    "    subscale_sum = sum([eval(i)[1] for i in scores_per_person if eval(i)[0] == subscale])\n",
    "    return(subscale_sum)\n",
    "   \n",
    "sum_per_subscale(new_scores.loc[0], 1)"
   ]
  },
  {
   "cell_type": "code",
   "execution_count": 31,
   "metadata": {
    "ExecuteTime": {
     "end_time": "2019-07-10T10:56:54.370516Z",
     "start_time": "2019-07-10T10:56:54.360992Z"
    }
   },
   "outputs": [
    {
     "name": "stdout",
     "output_type": "stream",
     "text": [
      "hi\n",
      "hi\n",
      "hi\n",
      "hi\n",
      "hi\n",
      "hi\n",
      "hi\n",
      "hi\n",
      "hi\n",
      "hi\n",
      "hi\n",
      "hi\n",
      "hi\n",
      "hi\n",
      "hi\n",
      "hi\n",
      "hi\n",
      "hi\n",
      "hi\n",
      "hi\n",
      "hi\n",
      "hi\n",
      "hi\n",
      "hi\n",
      "hi\n",
      "hi\n",
      "hi\n",
      "hi\n",
      "hi\n",
      "hi\n",
      "hi\n",
      "hi\n",
      "hi\n",
      "hi\n",
      "hi\n",
      "hi\n",
      "hi\n",
      "hi\n",
      "hi\n",
      "hi\n"
     ]
    },
    {
     "data": {
      "text/plain": [
       "[None,\n",
       " None,\n",
       " None,\n",
       " None,\n",
       " None,\n",
       " None,\n",
       " None,\n",
       " None,\n",
       " None,\n",
       " 3,\n",
       " None,\n",
       " 3,\n",
       " None,\n",
       " None,\n",
       " 3,\n",
       " 1,\n",
       " 3,\n",
       " 5,\n",
       " None,\n",
       " None,\n",
       " None,\n",
       " None,\n",
       " None,\n",
       " None,\n",
       " None,\n",
       " None,\n",
       " None,\n",
       " None,\n",
       " None,\n",
       " None,\n",
       " None,\n",
       " 3,\n",
       " None,\n",
       " 3,\n",
       " None,\n",
       " None,\n",
       " None,\n",
       " None,\n",
       " None,\n",
       " None,\n",
       " None,\n",
       " None,\n",
       " None,\n",
       " None,\n",
       " 3,\n",
       " None,\n",
       " None,\n",
       " 3,\n",
       " None,\n",
       " None]"
      ]
     },
     "execution_count": 31,
     "metadata": {},
     "output_type": "execute_result"
    }
   ],
   "source": [
    "def sum_per_subscale(scores_per_person, subscale):\n",
    "    subscale_sum = [eval(i)[1] if eval(i)[0] == subscale else print('hi') for i in scores_per_person]\n",
    "    return(subscale_sum)\n",
    "    \n",
    "sum_per_subscale(new_scores.loc[0], 1)"
   ]
  },
  {
   "cell_type": "code",
   "execution_count": 19,
   "metadata": {
    "ExecuteTime": {
     "end_time": "2019-07-10T10:21:17.834376Z",
     "start_time": "2019-07-10T10:21:15.523397Z"
    }
   },
   "outputs": [],
   "source": [
    "subscale_df = pd.DataFrame()\n",
    "subscale_df['1-Extraversion'] = new_scores.apply(lambda row: sum_per_subscale(row, 1), axis=1)\n",
    "subscale_df['2-Agreeableness'] = new_scores.apply(lambda row: sum_per_subscale(row, 2), axis=1)\n",
    "subscale_df['3-Conscientiousness'] = new_scores.apply(lambda row: sum_per_subscale(row, 3), axis=1)\n",
    "subscale_df['4-EmotionalStability'] = new_scores.apply(lambda row: sum_per_subscale(row, 4), axis=1)\n",
    "subscale_df['5-Intellect'] = new_scores.apply(lambda row: sum_per_subscale(row, 5), axis=1) "
   ]
  },
  {
   "cell_type": "code",
   "execution_count": 20,
   "metadata": {
    "ExecuteTime": {
     "end_time": "2019-07-10T10:21:21.674538Z",
     "start_time": "2019-07-10T10:21:21.666197Z"
    }
   },
   "outputs": [
    {
     "data": {
      "text/html": [
       "<div>\n",
       "<style scoped>\n",
       "    .dataframe tbody tr th:only-of-type {\n",
       "        vertical-align: middle;\n",
       "    }\n",
       "\n",
       "    .dataframe tbody tr th {\n",
       "        vertical-align: top;\n",
       "    }\n",
       "\n",
       "    .dataframe thead th {\n",
       "        text-align: right;\n",
       "    }\n",
       "</style>\n",
       "<table border=\"1\" class=\"dataframe\">\n",
       "  <thead>\n",
       "    <tr style=\"text-align: right;\">\n",
       "      <th></th>\n",
       "      <th>1-Extraversion</th>\n",
       "      <th>2-Agreeableness</th>\n",
       "      <th>3-Conscientiousness</th>\n",
       "      <th>4-EmotionalStability</th>\n",
       "      <th>5-Intellect</th>\n",
       "    </tr>\n",
       "    <tr>\n",
       "      <th>ID</th>\n",
       "      <th></th>\n",
       "      <th></th>\n",
       "      <th></th>\n",
       "      <th></th>\n",
       "      <th></th>\n",
       "    </tr>\n",
       "  </thead>\n",
       "  <tbody>\n",
       "    <tr>\n",
       "      <th>0</th>\n",
       "      <td>30</td>\n",
       "      <td>40</td>\n",
       "      <td>48</td>\n",
       "      <td>36</td>\n",
       "      <td>42</td>\n",
       "    </tr>\n",
       "    <tr>\n",
       "      <th>1</th>\n",
       "      <td>42</td>\n",
       "      <td>46</td>\n",
       "      <td>46</td>\n",
       "      <td>40</td>\n",
       "      <td>42</td>\n",
       "    </tr>\n",
       "    <tr>\n",
       "      <th>2</th>\n",
       "      <td>28</td>\n",
       "      <td>40</td>\n",
       "      <td>40</td>\n",
       "      <td>38</td>\n",
       "      <td>42</td>\n",
       "    </tr>\n",
       "    <tr>\n",
       "      <th>3</th>\n",
       "      <td>30</td>\n",
       "      <td>38</td>\n",
       "      <td>38</td>\n",
       "      <td>40</td>\n",
       "      <td>38</td>\n",
       "    </tr>\n",
       "    <tr>\n",
       "      <th>4</th>\n",
       "      <td>28</td>\n",
       "      <td>34</td>\n",
       "      <td>46</td>\n",
       "      <td>38</td>\n",
       "      <td>36</td>\n",
       "    </tr>\n",
       "  </tbody>\n",
       "</table>\n",
       "</div>"
      ],
      "text/plain": [
       "    1-Extraversion  2-Agreeableness  3-Conscientiousness  \\\n",
       "ID                                                         \n",
       "0               30               40                   48   \n",
       "1               42               46                   46   \n",
       "2               28               40                   40   \n",
       "3               30               38                   38   \n",
       "4               28               34                   46   \n",
       "\n",
       "    4-EmotionalStability  5-Intellect  \n",
       "ID                                     \n",
       "0                     36           42  \n",
       "1                     40           42  \n",
       "2                     38           42  \n",
       "3                     40           38  \n",
       "4                     38           36  "
      ]
     },
     "execution_count": 20,
     "metadata": {},
     "output_type": "execute_result"
    }
   ],
   "source": [
    "subscale_df.head()"
   ]
  },
  {
   "cell_type": "code",
   "execution_count": 26,
   "metadata": {
    "ExecuteTime": {
     "end_time": "2019-07-10T10:47:59.428415Z",
     "start_time": "2019-07-10T10:47:59.401750Z"
    }
   },
   "outputs": [
    {
     "data": {
      "text/html": [
       "<div>\n",
       "<style scoped>\n",
       "    .dataframe tbody tr th:only-of-type {\n",
       "        vertical-align: middle;\n",
       "    }\n",
       "\n",
       "    .dataframe tbody tr th {\n",
       "        vertical-align: top;\n",
       "    }\n",
       "\n",
       "    .dataframe thead th {\n",
       "        text-align: right;\n",
       "    }\n",
       "</style>\n",
       "<table border=\"1\" class=\"dataframe\">\n",
       "  <thead>\n",
       "    <tr style=\"text-align: right;\">\n",
       "      <th></th>\n",
       "      <th>1-Extraversion</th>\n",
       "      <th>2-Agreeableness</th>\n",
       "      <th>3-Conscientiousness</th>\n",
       "      <th>4-EmotionalStability</th>\n",
       "      <th>5-Intellect</th>\n",
       "      <th>new</th>\n",
       "    </tr>\n",
       "    <tr>\n",
       "      <th>ID</th>\n",
       "      <th></th>\n",
       "      <th></th>\n",
       "      <th></th>\n",
       "      <th></th>\n",
       "      <th></th>\n",
       "      <th></th>\n",
       "    </tr>\n",
       "  </thead>\n",
       "  <tbody>\n",
       "    <tr>\n",
       "      <th>0</th>\n",
       "      <td>30</td>\n",
       "      <td>40</td>\n",
       "      <td>48</td>\n",
       "      <td>36</td>\n",
       "      <td>42</td>\n",
       "      <td>84</td>\n",
       "    </tr>\n",
       "    <tr>\n",
       "      <th>1</th>\n",
       "      <td>42</td>\n",
       "      <td>46</td>\n",
       "      <td>46</td>\n",
       "      <td>40</td>\n",
       "      <td>42</td>\n",
       "      <td>84</td>\n",
       "    </tr>\n",
       "    <tr>\n",
       "      <th>2</th>\n",
       "      <td>28</td>\n",
       "      <td>40</td>\n",
       "      <td>40</td>\n",
       "      <td>38</td>\n",
       "      <td>42</td>\n",
       "      <td>84</td>\n",
       "    </tr>\n",
       "    <tr>\n",
       "      <th>3</th>\n",
       "      <td>30</td>\n",
       "      <td>38</td>\n",
       "      <td>38</td>\n",
       "      <td>40</td>\n",
       "      <td>38</td>\n",
       "      <td>76</td>\n",
       "    </tr>\n",
       "    <tr>\n",
       "      <th>4</th>\n",
       "      <td>28</td>\n",
       "      <td>34</td>\n",
       "      <td>46</td>\n",
       "      <td>38</td>\n",
       "      <td>36</td>\n",
       "      <td>72</td>\n",
       "    </tr>\n",
       "  </tbody>\n",
       "</table>\n",
       "</div>"
      ],
      "text/plain": [
       "    1-Extraversion  2-Agreeableness  3-Conscientiousness  \\\n",
       "ID                                                         \n",
       "0               30               40                   48   \n",
       "1               42               46                   46   \n",
       "2               28               40                   40   \n",
       "3               30               38                   38   \n",
       "4               28               34                   46   \n",
       "\n",
       "    4-EmotionalStability  5-Intellect  new  \n",
       "ID                                          \n",
       "0                     36           42   84  \n",
       "1                     40           42   84  \n",
       "2                     38           42   84  \n",
       "3                     40           38   76  \n",
       "4                     38           36   72  "
      ]
     },
     "execution_count": 26,
     "metadata": {},
     "output_type": "execute_result"
    }
   ],
   "source": [
    "subscale_df['new'] = subscale_df['5-Intellect']*2\n",
    "subscale_df.head()"
   ]
  },
  {
   "cell_type": "code",
   "execution_count": 27,
   "metadata": {
    "ExecuteTime": {
     "end_time": "2019-07-10T10:48:58.791927Z",
     "start_time": "2019-07-10T10:48:58.756018Z"
    }
   },
   "outputs": [
    {
     "data": {
      "text/html": [
       "<div>\n",
       "<style scoped>\n",
       "    .dataframe tbody tr th:only-of-type {\n",
       "        vertical-align: middle;\n",
       "    }\n",
       "\n",
       "    .dataframe tbody tr th {\n",
       "        vertical-align: top;\n",
       "    }\n",
       "\n",
       "    .dataframe thead th {\n",
       "        text-align: right;\n",
       "    }\n",
       "</style>\n",
       "<table border=\"1\" class=\"dataframe\">\n",
       "  <thead>\n",
       "    <tr style=\"text-align: right;\">\n",
       "      <th></th>\n",
       "      <th>1-Extraversion</th>\n",
       "      <th>2-Agreeableness</th>\n",
       "      <th>3-Conscientiousness</th>\n",
       "      <th>4-EmotionalStability</th>\n",
       "      <th>5-Intellect</th>\n",
       "      <th>new</th>\n",
       "      <th>new2</th>\n",
       "    </tr>\n",
       "    <tr>\n",
       "      <th>ID</th>\n",
       "      <th></th>\n",
       "      <th></th>\n",
       "      <th></th>\n",
       "      <th></th>\n",
       "      <th></th>\n",
       "      <th></th>\n",
       "      <th></th>\n",
       "    </tr>\n",
       "  </thead>\n",
       "  <tbody>\n",
       "    <tr>\n",
       "      <th>0</th>\n",
       "      <td>30</td>\n",
       "      <td>40</td>\n",
       "      <td>48</td>\n",
       "      <td>36</td>\n",
       "      <td>42</td>\n",
       "      <td>84</td>\n",
       "      <td>84</td>\n",
       "    </tr>\n",
       "    <tr>\n",
       "      <th>1</th>\n",
       "      <td>42</td>\n",
       "      <td>46</td>\n",
       "      <td>46</td>\n",
       "      <td>40</td>\n",
       "      <td>42</td>\n",
       "      <td>84</td>\n",
       "      <td>84</td>\n",
       "    </tr>\n",
       "    <tr>\n",
       "      <th>2</th>\n",
       "      <td>28</td>\n",
       "      <td>40</td>\n",
       "      <td>40</td>\n",
       "      <td>38</td>\n",
       "      <td>42</td>\n",
       "      <td>84</td>\n",
       "      <td>84</td>\n",
       "    </tr>\n",
       "    <tr>\n",
       "      <th>3</th>\n",
       "      <td>30</td>\n",
       "      <td>38</td>\n",
       "      <td>38</td>\n",
       "      <td>40</td>\n",
       "      <td>38</td>\n",
       "      <td>76</td>\n",
       "      <td>76</td>\n",
       "    </tr>\n",
       "    <tr>\n",
       "      <th>4</th>\n",
       "      <td>28</td>\n",
       "      <td>34</td>\n",
       "      <td>46</td>\n",
       "      <td>38</td>\n",
       "      <td>36</td>\n",
       "      <td>72</td>\n",
       "      <td>72</td>\n",
       "    </tr>\n",
       "  </tbody>\n",
       "</table>\n",
       "</div>"
      ],
      "text/plain": [
       "    1-Extraversion  2-Agreeableness  3-Conscientiousness  \\\n",
       "ID                                                         \n",
       "0               30               40                   48   \n",
       "1               42               46                   46   \n",
       "2               28               40                   40   \n",
       "3               30               38                   38   \n",
       "4               28               34                   46   \n",
       "\n",
       "    4-EmotionalStability  5-Intellect  new  new2  \n",
       "ID                                                \n",
       "0                     36           42   84    84  \n",
       "1                     40           42   84    84  \n",
       "2                     38           42   84    84  \n",
       "3                     40           38   76    76  \n",
       "4                     38           36   72    72  "
      ]
     },
     "execution_count": 27,
     "metadata": {},
     "output_type": "execute_result"
    }
   ],
   "source": [
    "subscale_df['new2'] = subscale_df.apply(lambda row: row['5-Intellect']*2, axis=1)\n",
    "subscale_df.head()"
   ]
  },
  {
   "cell_type": "code",
   "execution_count": 1,
   "metadata": {},
   "outputs": [],
   "source": [
    "# subscale_scores_inter = pd.DataFrame(subscale_scores.values, index = subscale_scores.index)\n",
    "# sub = subscale_scores_inter.applymap(score_interpretation)\n",
    "# sub.columns = ['Extraversion_Interpretation','Agreeableness_Interpretation','Conscientiousness_Interpretation', 'Neuroticism_Interpretation','Openness_Interpretation']\n",
    "# sub.head()"
   ]
  },
  {
   "cell_type": "code",
   "execution_count": 3,
   "metadata": {},
   "outputs": [],
   "source": [
    "#subscale_scores['Extraversion_Interpretation','Agreeableness_Interpretation','Conscientiousness_Interpretation', 'Neuroticism_Interpretation','Openness_Interpretation'] = eval(subscale_scores.apply(lambda row: subscale_scores.applymap(score_interpretation), axis=1))"
   ]
  },
  {
   "cell_type": "code",
   "execution_count": null,
   "metadata": {},
   "outputs": [],
   "source": [
    "# class subscale:\n",
    "#     def ():\n",
    "    \n",
    "# import pandas as pd \n",
    "  \n",
    "# # reading csv \n",
    "# s = pd.read_csv(\"stock.csv\", squeeze = True) \n",
    "  \n",
    "# defining function to check price \n",
    "def fun(num): \n",
    "  \n",
    "    if num<low: \n",
    "        return \"Low\"\n",
    "  \n",
    "    elif num>= low and num<high: \n",
    "        return \"Medium\"\n",
    "  \n",
    "    else: \n",
    "        return \"High\"\n",
    "  \n",
    "# passing function to apply and storing returned series in new \n",
    "columns = ['Extraversion_Interpretation','Agreeableness_Interpretation','Conscientiousness_Interpretation', 'Neuroticism_Interpretation','Openness_Interpretation']\n",
    "#new[columns] = subscale_scores.apply(fun) \n",
    "new['Extraversion_Interpretation','Agreeableness_Interpretation','Conscientiousness_Interpretation', 'Neuroticism_Interpretation','Openness_Interpretation']  \n",
    "# printing first 3 element \n",
    "print(new.head(3)) \n",
    "  \n",
    "# # printing elements somewhere near the middle of series \n",
    "# print(new[1400], new[1500], new[1600]) \n",
    "  \n",
    "# # printing last 3 elements \n",
    "# print(new.tail(3)) "
   ]
  },
  {
   "cell_type": "code",
   "execution_count": 1,
   "metadata": {},
   "outputs": [],
   "source": [
    "# def total_for_subscale(p_scores_per_person, subscale):\n",
    "#     subscale_sum = sum([eval(p_scores_per_person[i])[1] for i in range(50) if eval(p_scores_per_person[i])[0] == subscale])\n",
    "#     return(subscale_sum)"
   ]
  },
  {
   "cell_type": "code",
   "execution_count": null,
   "metadata": {},
   "outputs": [],
   "source": [
    "low = subscale_scores.loc[ : , : ].mean() - subscale_scores.loc[ : , : ].std()/2\n",
    "high = subscale_scores.loc[ : , : ].mean() + subscale_scores.loc[ : , : ].std()/2\n",
    "def f(scores, subscale):\n",
    "    if score < low: \n",
    "        return 'low' \n",
    "\n",
    "    elif score >= low and score < high: \n",
    "        return 'medium'\n",
    "        \n",
    "    else :\n",
    "        return 'high'\n",
    "        "
   ]
  }
 ],
 "metadata": {
  "kernelspec": {
   "display_name": "Python 3",
   "language": "python",
   "name": "python3"
  },
  "language_info": {
   "codemirror_mode": {
    "name": "ipython",
    "version": 3
   },
   "file_extension": ".py",
   "mimetype": "text/x-python",
   "name": "python",
   "nbconvert_exporter": "python",
   "pygments_lexer": "ipython3",
   "version": "3.7.3"
  },
  "toc": {
   "base_numbering": 1,
   "nav_menu": {},
   "number_sections": true,
   "sideBar": true,
   "skip_h1_title": false,
   "title_cell": "Table of Contents",
   "title_sidebar": "Contents",
   "toc_cell": false,
   "toc_position": {},
   "toc_section_display": true,
   "toc_window_display": false
  },
  "varInspector": {
   "cols": {
    "lenName": 16,
    "lenType": 16,
    "lenVar": 40
   },
   "kernels_config": {
    "python": {
     "delete_cmd_postfix": "",
     "delete_cmd_prefix": "del ",
     "library": "var_list.py",
     "varRefreshCmd": "print(var_dic_list())"
    },
    "r": {
     "delete_cmd_postfix": ") ",
     "delete_cmd_prefix": "rm(",
     "library": "var_list.r",
     "varRefreshCmd": "cat(var_dic_list()) "
    }
   },
   "types_to_exclude": [
    "module",
    "function",
    "builtin_function_or_method",
    "instance",
    "_Feature"
   ],
   "window_display": false
  }
 },
 "nbformat": 4,
 "nbformat_minor": 2
}
